{
 "cells": [
  {
   "cell_type": "markdown",
   "id": "f8900999-dfbb-4092-86a0-b3a6a73df96c",
   "metadata": {},
   "source": [
    "# Libraries"
   ]
  },
  {
   "cell_type": "code",
   "execution_count": 100,
   "id": "af5b7557-39fa-43ba-95f4-ebad843e513e",
   "metadata": {},
   "outputs": [],
   "source": [
    "import pandas as pd\n",
    "import numpy as np\n",
    "import gc\n",
    "from sklearn.impute import SimpleImputer\n",
    "from sklearn.preprocessing import StandardScaler\n",
    "from sklearn.model_selection import train_test_split\n",
    "import mlflow\n",
    "from mlflow import log_metric, log_param\n",
    "from sklearn.dummy import DummyClassifier\n",
    "from sklearn.metrics import f1_score, precision_score, recall_score, accuracy_score, roc_auc_score, fbeta_score\n",
    "\n",
    "import time"
   ]
  },
  {
   "cell_type": "markdown",
   "id": "6e3a82cc-1b07-4523-bc99-ec63f8f30a9b",
   "metadata": {},
   "source": [
    "# Dataset"
   ]
  },
  {
   "cell_type": "markdown",
   "id": "58918268-8c08-41b2-99e5-d77790eec01a",
   "metadata": {},
   "source": [
    "## Import"
   ]
  },
  {
   "cell_type": "code",
   "execution_count": 43,
   "id": "23a9d1f2-305a-4ada-bfcc-e09e9fea31f1",
   "metadata": {},
   "outputs": [],
   "source": [
    "data = pd.read_csv('Home_credit_risk_data_modeling.csv')"
   ]
  },
  {
   "cell_type": "code",
   "execution_count": 44,
   "id": "49e1fbef-e025-4e27-ae34-76635861cf1d",
   "metadata": {},
   "outputs": [
    {
     "data": {
      "text/html": [
       "<div>\n",
       "<style scoped>\n",
       "    .dataframe tbody tr th:only-of-type {\n",
       "        vertical-align: middle;\n",
       "    }\n",
       "\n",
       "    .dataframe tbody tr th {\n",
       "        vertical-align: top;\n",
       "    }\n",
       "\n",
       "    .dataframe thead th {\n",
       "        text-align: right;\n",
       "    }\n",
       "</style>\n",
       "<table border=\"1\" class=\"dataframe\">\n",
       "  <thead>\n",
       "    <tr style=\"text-align: right;\">\n",
       "      <th></th>\n",
       "      <th>Unnamed: 0</th>\n",
       "      <th>SK_ID_CURR</th>\n",
       "      <th>TARGET</th>\n",
       "      <th>CODE_GENDER</th>\n",
       "      <th>FLAG_OWN_CAR</th>\n",
       "      <th>FLAG_OWN_REALTY</th>\n",
       "      <th>CNT_CHILDREN</th>\n",
       "      <th>AMT_INCOME_TOTAL</th>\n",
       "      <th>AMT_CREDIT</th>\n",
       "      <th>AMT_ANNUITY</th>\n",
       "      <th>...</th>\n",
       "      <th>CC_NAME_CONTRACT_STATUS_Signed_MAX</th>\n",
       "      <th>CC_NAME_CONTRACT_STATUS_Signed_MEAN</th>\n",
       "      <th>CC_NAME_CONTRACT_STATUS_Signed_SUM</th>\n",
       "      <th>CC_NAME_CONTRACT_STATUS_Signed_VAR</th>\n",
       "      <th>CC_NAME_CONTRACT_STATUS_nan_MIN</th>\n",
       "      <th>CC_NAME_CONTRACT_STATUS_nan_MAX</th>\n",
       "      <th>CC_NAME_CONTRACT_STATUS_nan_MEAN</th>\n",
       "      <th>CC_NAME_CONTRACT_STATUS_nan_SUM</th>\n",
       "      <th>CC_NAME_CONTRACT_STATUS_nan_VAR</th>\n",
       "      <th>CC_COUNT</th>\n",
       "    </tr>\n",
       "  </thead>\n",
       "  <tbody>\n",
       "    <tr>\n",
       "      <th>0</th>\n",
       "      <td>0</td>\n",
       "      <td>100002</td>\n",
       "      <td>1.0</td>\n",
       "      <td>0</td>\n",
       "      <td>0</td>\n",
       "      <td>0</td>\n",
       "      <td>0</td>\n",
       "      <td>202500.0</td>\n",
       "      <td>406597.5</td>\n",
       "      <td>24700.5</td>\n",
       "      <td>...</td>\n",
       "      <td>NaN</td>\n",
       "      <td>NaN</td>\n",
       "      <td>NaN</td>\n",
       "      <td>NaN</td>\n",
       "      <td>NaN</td>\n",
       "      <td>NaN</td>\n",
       "      <td>NaN</td>\n",
       "      <td>NaN</td>\n",
       "      <td>NaN</td>\n",
       "      <td>NaN</td>\n",
       "    </tr>\n",
       "    <tr>\n",
       "      <th>1</th>\n",
       "      <td>1</td>\n",
       "      <td>100003</td>\n",
       "      <td>0.0</td>\n",
       "      <td>1</td>\n",
       "      <td>0</td>\n",
       "      <td>1</td>\n",
       "      <td>0</td>\n",
       "      <td>270000.0</td>\n",
       "      <td>1293502.5</td>\n",
       "      <td>35698.5</td>\n",
       "      <td>...</td>\n",
       "      <td>NaN</td>\n",
       "      <td>NaN</td>\n",
       "      <td>NaN</td>\n",
       "      <td>NaN</td>\n",
       "      <td>NaN</td>\n",
       "      <td>NaN</td>\n",
       "      <td>NaN</td>\n",
       "      <td>NaN</td>\n",
       "      <td>NaN</td>\n",
       "      <td>NaN</td>\n",
       "    </tr>\n",
       "  </tbody>\n",
       "</table>\n",
       "<p>2 rows × 798 columns</p>\n",
       "</div>"
      ],
      "text/plain": [
       "   Unnamed: 0  SK_ID_CURR  TARGET  CODE_GENDER  FLAG_OWN_CAR  FLAG_OWN_REALTY  \\\n",
       "0           0      100002     1.0            0             0                0   \n",
       "1           1      100003     0.0            1             0                1   \n",
       "\n",
       "   CNT_CHILDREN  AMT_INCOME_TOTAL  AMT_CREDIT  AMT_ANNUITY  ...  \\\n",
       "0             0          202500.0    406597.5      24700.5  ...   \n",
       "1             0          270000.0   1293502.5      35698.5  ...   \n",
       "\n",
       "   CC_NAME_CONTRACT_STATUS_Signed_MAX  CC_NAME_CONTRACT_STATUS_Signed_MEAN  \\\n",
       "0                                 NaN                                  NaN   \n",
       "1                                 NaN                                  NaN   \n",
       "\n",
       "   CC_NAME_CONTRACT_STATUS_Signed_SUM  CC_NAME_CONTRACT_STATUS_Signed_VAR  \\\n",
       "0                                 NaN                                 NaN   \n",
       "1                                 NaN                                 NaN   \n",
       "\n",
       "   CC_NAME_CONTRACT_STATUS_nan_MIN  CC_NAME_CONTRACT_STATUS_nan_MAX  \\\n",
       "0                              NaN                              NaN   \n",
       "1                              NaN                              NaN   \n",
       "\n",
       "   CC_NAME_CONTRACT_STATUS_nan_MEAN  CC_NAME_CONTRACT_STATUS_nan_SUM  \\\n",
       "0                               NaN                              NaN   \n",
       "1                               NaN                              NaN   \n",
       "\n",
       "   CC_NAME_CONTRACT_STATUS_nan_VAR  CC_COUNT  \n",
       "0                              NaN       NaN  \n",
       "1                              NaN       NaN  \n",
       "\n",
       "[2 rows x 798 columns]"
      ]
     },
     "execution_count": 44,
     "metadata": {},
     "output_type": "execute_result"
    }
   ],
   "source": [
    "data.head(2)"
   ]
  },
  {
   "cell_type": "code",
   "execution_count": 64,
   "id": "f638ef80-d0e7-4b6d-8b08-dcd3fd8dc65b",
   "metadata": {},
   "outputs": [],
   "source": [
    "df = data.iloc[:,1:] #delete first column 'unnamed:0'"
   ]
  },
  {
   "cell_type": "code",
   "execution_count": 65,
   "id": "764c93c3-76aa-4997-ae0c-6abaf0eb8047",
   "metadata": {},
   "outputs": [
    {
     "data": {
      "text/html": [
       "<div>\n",
       "<style scoped>\n",
       "    .dataframe tbody tr th:only-of-type {\n",
       "        vertical-align: middle;\n",
       "    }\n",
       "\n",
       "    .dataframe tbody tr th {\n",
       "        vertical-align: top;\n",
       "    }\n",
       "\n",
       "    .dataframe thead th {\n",
       "        text-align: right;\n",
       "    }\n",
       "</style>\n",
       "<table border=\"1\" class=\"dataframe\">\n",
       "  <thead>\n",
       "    <tr style=\"text-align: right;\">\n",
       "      <th></th>\n",
       "      <th>SK_ID_CURR</th>\n",
       "      <th>TARGET</th>\n",
       "      <th>CODE_GENDER</th>\n",
       "      <th>FLAG_OWN_CAR</th>\n",
       "      <th>FLAG_OWN_REALTY</th>\n",
       "      <th>CNT_CHILDREN</th>\n",
       "      <th>AMT_INCOME_TOTAL</th>\n",
       "      <th>AMT_CREDIT</th>\n",
       "      <th>AMT_ANNUITY</th>\n",
       "      <th>AMT_GOODS_PRICE</th>\n",
       "      <th>...</th>\n",
       "      <th>CC_NAME_CONTRACT_STATUS_Signed_MAX</th>\n",
       "      <th>CC_NAME_CONTRACT_STATUS_Signed_MEAN</th>\n",
       "      <th>CC_NAME_CONTRACT_STATUS_Signed_SUM</th>\n",
       "      <th>CC_NAME_CONTRACT_STATUS_Signed_VAR</th>\n",
       "      <th>CC_NAME_CONTRACT_STATUS_nan_MIN</th>\n",
       "      <th>CC_NAME_CONTRACT_STATUS_nan_MAX</th>\n",
       "      <th>CC_NAME_CONTRACT_STATUS_nan_MEAN</th>\n",
       "      <th>CC_NAME_CONTRACT_STATUS_nan_SUM</th>\n",
       "      <th>CC_NAME_CONTRACT_STATUS_nan_VAR</th>\n",
       "      <th>CC_COUNT</th>\n",
       "    </tr>\n",
       "  </thead>\n",
       "  <tbody>\n",
       "    <tr>\n",
       "      <th>0</th>\n",
       "      <td>100002</td>\n",
       "      <td>1.0</td>\n",
       "      <td>0</td>\n",
       "      <td>0</td>\n",
       "      <td>0</td>\n",
       "      <td>0</td>\n",
       "      <td>202500.0</td>\n",
       "      <td>406597.5</td>\n",
       "      <td>24700.5</td>\n",
       "      <td>351000.0</td>\n",
       "      <td>...</td>\n",
       "      <td>NaN</td>\n",
       "      <td>NaN</td>\n",
       "      <td>NaN</td>\n",
       "      <td>NaN</td>\n",
       "      <td>NaN</td>\n",
       "      <td>NaN</td>\n",
       "      <td>NaN</td>\n",
       "      <td>NaN</td>\n",
       "      <td>NaN</td>\n",
       "      <td>NaN</td>\n",
       "    </tr>\n",
       "    <tr>\n",
       "      <th>1</th>\n",
       "      <td>100003</td>\n",
       "      <td>0.0</td>\n",
       "      <td>1</td>\n",
       "      <td>0</td>\n",
       "      <td>1</td>\n",
       "      <td>0</td>\n",
       "      <td>270000.0</td>\n",
       "      <td>1293502.5</td>\n",
       "      <td>35698.5</td>\n",
       "      <td>1129500.0</td>\n",
       "      <td>...</td>\n",
       "      <td>NaN</td>\n",
       "      <td>NaN</td>\n",
       "      <td>NaN</td>\n",
       "      <td>NaN</td>\n",
       "      <td>NaN</td>\n",
       "      <td>NaN</td>\n",
       "      <td>NaN</td>\n",
       "      <td>NaN</td>\n",
       "      <td>NaN</td>\n",
       "      <td>NaN</td>\n",
       "    </tr>\n",
       "  </tbody>\n",
       "</table>\n",
       "<p>2 rows × 797 columns</p>\n",
       "</div>"
      ],
      "text/plain": [
       "   SK_ID_CURR  TARGET  CODE_GENDER  FLAG_OWN_CAR  FLAG_OWN_REALTY  \\\n",
       "0      100002     1.0            0             0                0   \n",
       "1      100003     0.0            1             0                1   \n",
       "\n",
       "   CNT_CHILDREN  AMT_INCOME_TOTAL  AMT_CREDIT  AMT_ANNUITY  AMT_GOODS_PRICE  \\\n",
       "0             0          202500.0    406597.5      24700.5         351000.0   \n",
       "1             0          270000.0   1293502.5      35698.5        1129500.0   \n",
       "\n",
       "   ...  CC_NAME_CONTRACT_STATUS_Signed_MAX  \\\n",
       "0  ...                                 NaN   \n",
       "1  ...                                 NaN   \n",
       "\n",
       "   CC_NAME_CONTRACT_STATUS_Signed_MEAN  CC_NAME_CONTRACT_STATUS_Signed_SUM  \\\n",
       "0                                  NaN                                 NaN   \n",
       "1                                  NaN                                 NaN   \n",
       "\n",
       "   CC_NAME_CONTRACT_STATUS_Signed_VAR  CC_NAME_CONTRACT_STATUS_nan_MIN  \\\n",
       "0                                 NaN                              NaN   \n",
       "1                                 NaN                              NaN   \n",
       "\n",
       "   CC_NAME_CONTRACT_STATUS_nan_MAX  CC_NAME_CONTRACT_STATUS_nan_MEAN  \\\n",
       "0                              NaN                               NaN   \n",
       "1                              NaN                               NaN   \n",
       "\n",
       "   CC_NAME_CONTRACT_STATUS_nan_SUM  CC_NAME_CONTRACT_STATUS_nan_VAR  CC_COUNT  \n",
       "0                              NaN                              NaN       NaN  \n",
       "1                              NaN                              NaN       NaN  \n",
       "\n",
       "[2 rows x 797 columns]"
      ]
     },
     "execution_count": 65,
     "metadata": {},
     "output_type": "execute_result"
    }
   ],
   "source": [
    "df.head(2)"
   ]
  },
  {
   "cell_type": "code",
   "execution_count": 66,
   "id": "8fbc1f99-0729-4569-bae3-1b22f93ccd33",
   "metadata": {},
   "outputs": [
    {
     "data": {
      "text/html": [
       "<div>\n",
       "<style scoped>\n",
       "    .dataframe tbody tr th:only-of-type {\n",
       "        vertical-align: middle;\n",
       "    }\n",
       "\n",
       "    .dataframe tbody tr th {\n",
       "        vertical-align: top;\n",
       "    }\n",
       "\n",
       "    .dataframe thead th {\n",
       "        text-align: right;\n",
       "    }\n",
       "</style>\n",
       "<table border=\"1\" class=\"dataframe\">\n",
       "  <thead>\n",
       "    <tr style=\"text-align: right;\">\n",
       "      <th></th>\n",
       "      <th>TARGET</th>\n",
       "      <th>CODE_GENDER</th>\n",
       "      <th>FLAG_OWN_CAR</th>\n",
       "      <th>FLAG_OWN_REALTY</th>\n",
       "      <th>CNT_CHILDREN</th>\n",
       "      <th>AMT_INCOME_TOTAL</th>\n",
       "      <th>AMT_CREDIT</th>\n",
       "      <th>AMT_ANNUITY</th>\n",
       "      <th>AMT_GOODS_PRICE</th>\n",
       "      <th>REGION_POPULATION_RELATIVE</th>\n",
       "      <th>...</th>\n",
       "      <th>CC_NAME_CONTRACT_STATUS_Signed_MAX</th>\n",
       "      <th>CC_NAME_CONTRACT_STATUS_Signed_MEAN</th>\n",
       "      <th>CC_NAME_CONTRACT_STATUS_Signed_SUM</th>\n",
       "      <th>CC_NAME_CONTRACT_STATUS_Signed_VAR</th>\n",
       "      <th>CC_NAME_CONTRACT_STATUS_nan_MIN</th>\n",
       "      <th>CC_NAME_CONTRACT_STATUS_nan_MAX</th>\n",
       "      <th>CC_NAME_CONTRACT_STATUS_nan_MEAN</th>\n",
       "      <th>CC_NAME_CONTRACT_STATUS_nan_SUM</th>\n",
       "      <th>CC_NAME_CONTRACT_STATUS_nan_VAR</th>\n",
       "      <th>CC_COUNT</th>\n",
       "    </tr>\n",
       "    <tr>\n",
       "      <th>SK_ID_CURR</th>\n",
       "      <th></th>\n",
       "      <th></th>\n",
       "      <th></th>\n",
       "      <th></th>\n",
       "      <th></th>\n",
       "      <th></th>\n",
       "      <th></th>\n",
       "      <th></th>\n",
       "      <th></th>\n",
       "      <th></th>\n",
       "      <th></th>\n",
       "      <th></th>\n",
       "      <th></th>\n",
       "      <th></th>\n",
       "      <th></th>\n",
       "      <th></th>\n",
       "      <th></th>\n",
       "      <th></th>\n",
       "      <th></th>\n",
       "      <th></th>\n",
       "      <th></th>\n",
       "    </tr>\n",
       "  </thead>\n",
       "  <tbody>\n",
       "    <tr>\n",
       "      <th>100002</th>\n",
       "      <td>1.0</td>\n",
       "      <td>0</td>\n",
       "      <td>0</td>\n",
       "      <td>0</td>\n",
       "      <td>0</td>\n",
       "      <td>202500.0</td>\n",
       "      <td>406597.5</td>\n",
       "      <td>24700.5</td>\n",
       "      <td>351000.0</td>\n",
       "      <td>0.018801</td>\n",
       "      <td>...</td>\n",
       "      <td>NaN</td>\n",
       "      <td>NaN</td>\n",
       "      <td>NaN</td>\n",
       "      <td>NaN</td>\n",
       "      <td>NaN</td>\n",
       "      <td>NaN</td>\n",
       "      <td>NaN</td>\n",
       "      <td>NaN</td>\n",
       "      <td>NaN</td>\n",
       "      <td>NaN</td>\n",
       "    </tr>\n",
       "    <tr>\n",
       "      <th>100003</th>\n",
       "      <td>0.0</td>\n",
       "      <td>1</td>\n",
       "      <td>0</td>\n",
       "      <td>1</td>\n",
       "      <td>0</td>\n",
       "      <td>270000.0</td>\n",
       "      <td>1293502.5</td>\n",
       "      <td>35698.5</td>\n",
       "      <td>1129500.0</td>\n",
       "      <td>0.003541</td>\n",
       "      <td>...</td>\n",
       "      <td>NaN</td>\n",
       "      <td>NaN</td>\n",
       "      <td>NaN</td>\n",
       "      <td>NaN</td>\n",
       "      <td>NaN</td>\n",
       "      <td>NaN</td>\n",
       "      <td>NaN</td>\n",
       "      <td>NaN</td>\n",
       "      <td>NaN</td>\n",
       "      <td>NaN</td>\n",
       "    </tr>\n",
       "  </tbody>\n",
       "</table>\n",
       "<p>2 rows × 796 columns</p>\n",
       "</div>"
      ],
      "text/plain": [
       "            TARGET  CODE_GENDER  FLAG_OWN_CAR  FLAG_OWN_REALTY  CNT_CHILDREN  \\\n",
       "SK_ID_CURR                                                                     \n",
       "100002         1.0            0             0                0             0   \n",
       "100003         0.0            1             0                1             0   \n",
       "\n",
       "            AMT_INCOME_TOTAL  AMT_CREDIT  AMT_ANNUITY  AMT_GOODS_PRICE  \\\n",
       "SK_ID_CURR                                                               \n",
       "100002              202500.0    406597.5      24700.5         351000.0   \n",
       "100003              270000.0   1293502.5      35698.5        1129500.0   \n",
       "\n",
       "            REGION_POPULATION_RELATIVE  ...  \\\n",
       "SK_ID_CURR                              ...   \n",
       "100002                        0.018801  ...   \n",
       "100003                        0.003541  ...   \n",
       "\n",
       "            CC_NAME_CONTRACT_STATUS_Signed_MAX  \\\n",
       "SK_ID_CURR                                       \n",
       "100002                                     NaN   \n",
       "100003                                     NaN   \n",
       "\n",
       "            CC_NAME_CONTRACT_STATUS_Signed_MEAN  \\\n",
       "SK_ID_CURR                                        \n",
       "100002                                      NaN   \n",
       "100003                                      NaN   \n",
       "\n",
       "            CC_NAME_CONTRACT_STATUS_Signed_SUM  \\\n",
       "SK_ID_CURR                                       \n",
       "100002                                     NaN   \n",
       "100003                                     NaN   \n",
       "\n",
       "            CC_NAME_CONTRACT_STATUS_Signed_VAR  \\\n",
       "SK_ID_CURR                                       \n",
       "100002                                     NaN   \n",
       "100003                                     NaN   \n",
       "\n",
       "            CC_NAME_CONTRACT_STATUS_nan_MIN  CC_NAME_CONTRACT_STATUS_nan_MAX  \\\n",
       "SK_ID_CURR                                                                     \n",
       "100002                                  NaN                              NaN   \n",
       "100003                                  NaN                              NaN   \n",
       "\n",
       "            CC_NAME_CONTRACT_STATUS_nan_MEAN  CC_NAME_CONTRACT_STATUS_nan_SUM  \\\n",
       "SK_ID_CURR                                                                      \n",
       "100002                                   NaN                              NaN   \n",
       "100003                                   NaN                              NaN   \n",
       "\n",
       "            CC_NAME_CONTRACT_STATUS_nan_VAR  CC_COUNT  \n",
       "SK_ID_CURR                                             \n",
       "100002                                  NaN       NaN  \n",
       "100003                                  NaN       NaN  \n",
       "\n",
       "[2 rows x 796 columns]"
      ]
     },
     "execution_count": 66,
     "metadata": {},
     "output_type": "execute_result"
    }
   ],
   "source": [
    "df.set_index('SK_ID_CURR', inplace = True)\n",
    "df.head(2)"
   ]
  },
  {
   "cell_type": "code",
   "execution_count": 67,
   "id": "db781409-b99a-48c1-abc8-55908bd09757",
   "metadata": {},
   "outputs": [],
   "source": [
    "df_size = df.shape"
   ]
  },
  {
   "cell_type": "code",
   "execution_count": 68,
   "id": "de89d93e-28df-424e-8969-cb9e0a026262",
   "metadata": {},
   "outputs": [
    {
     "name": "stdout",
     "output_type": "stream",
     "text": [
      "<class 'pandas.core.frame.DataFrame'>\n",
      "Index: 356251 entries, 100002 to 456250\n",
      "Columns: 796 entries, TARGET to CC_COUNT\n",
      "dtypes: bool(133), float64(606), int64(41), object(16)\n",
      "memory usage: 1.8+ GB\n"
     ]
    }
   ],
   "source": [
    "df.info()"
   ]
  },
  {
   "cell_type": "code",
   "execution_count": 71,
   "id": "03c1d221-285a-40c2-a86a-5592c0d71c07",
   "metadata": {},
   "outputs": [],
   "source": [
    "#replace infinite values by Nan\n",
    "df.replace([np.inf, -np.inf], np.nan, inplace = True)"
   ]
  },
  {
   "cell_type": "code",
   "execution_count": 72,
   "id": "7f176c33-5fca-4546-934a-39f1d718bb63",
   "metadata": {},
   "outputs": [
    {
     "data": {
      "text/plain": [
       "TARGET                               48744\n",
       "CODE_GENDER                              0\n",
       "FLAG_OWN_CAR                             0\n",
       "FLAG_OWN_REALTY                          0\n",
       "CNT_CHILDREN                             0\n",
       "                                     ...  \n",
       "CC_NAME_CONTRACT_STATUS_nan_MAX     252693\n",
       "CC_NAME_CONTRACT_STATUS_nan_MEAN    252693\n",
       "CC_NAME_CONTRACT_STATUS_nan_SUM     252693\n",
       "CC_NAME_CONTRACT_STATUS_nan_VAR     253385\n",
       "CC_COUNT                            252693\n",
       "Length: 796, dtype: int64"
      ]
     },
     "execution_count": 72,
     "metadata": {},
     "output_type": "execute_result"
    }
   ],
   "source": [
    "df.isna().sum()"
   ]
  },
  {
   "cell_type": "markdown",
   "id": "70fed10e-5d84-4fa6-bbbf-ef0ed9ab35d4",
   "metadata": {},
   "source": [
    "Split the Dataset into a train (where target was informed) and test (where no target was informed)"
   ]
  },
  {
   "cell_type": "code",
   "execution_count": 73,
   "id": "cf322740-7b75-40eb-be29-46dbeda92af0",
   "metadata": {},
   "outputs": [],
   "source": [
    "df_train_sample = df.loc[~(df['TARGET'].isnull())]\n",
    "df_test_sample = df.loc[df['TARGET'].isnull()]"
   ]
  },
  {
   "cell_type": "code",
   "execution_count": 74,
   "id": "97ea4e5f-5d62-4238-992c-59b006815bfb",
   "metadata": {},
   "outputs": [
    {
     "data": {
      "text/plain": [
       "1318"
      ]
     },
     "execution_count": 74,
     "metadata": {},
     "output_type": "execute_result"
    }
   ],
   "source": [
    "del df\n",
    "gc.collect() "
   ]
  },
  {
   "cell_type": "code",
   "execution_count": 75,
   "id": "eaa5dd53-bb26-4cae-9c02-158a15e885b9",
   "metadata": {},
   "outputs": [
    {
     "name": "stdout",
     "output_type": "stream",
     "text": [
      "Train dataset has 8.1% of target 1 and 91.9% of target 0\n"
     ]
    }
   ],
   "source": [
    "print(f\"Train dataset has {round((df_train_sample[df_train_sample['TARGET'] == 1].shape[0])/df_train_sample.shape[0]*100,1)}% of target 1 and {round((df_train_sample[df_train_sample['TARGET'] == 0].shape[0])/df_train_sample.shape[0]*100,1)}% of target 0\")"
   ]
  },
  {
   "cell_type": "markdown",
   "id": "dd1f203c-3755-4200-8186-225c35ce6dfc",
   "metadata": {},
   "source": [
    "## Preprocessing"
   ]
  },
  {
   "cell_type": "code",
   "execution_count": 76,
   "id": "1ad1889a-b6bc-4469-aacc-c33fb825a279",
   "metadata": {},
   "outputs": [],
   "source": [
    "X = df_train_sample.drop(columns = ['TARGET']).copy()\n",
    "y = df_train_sample['TARGET'].copy()"
   ]
  },
  {
   "cell_type": "code",
   "execution_count": 77,
   "id": "70f3a5b8-14ba-4679-91d5-6addf0a42907",
   "metadata": {},
   "outputs": [],
   "source": [
    "def list_features_att(df):\n",
    "    '''Function to attribute to columns of a dataframe a category into a several list\n",
    "    it returns two lists.\n",
    "    --> Numerical: num_list\n",
    "    --> discrete_numerical: num_dis_list'''\n",
    "\n",
    "    numerical_list = list()\n",
    "    numerical_discrete_list = list()\n",
    "    for name in df.columns:\n",
    "        if df[name].nunique() < 10:\n",
    "            numerical_discrete_list.append(name)\n",
    "        else:\n",
    "            numerical_list.append(name)\n",
    "    return numerical_list, numerical_discrete_list"
   ]
  },
  {
   "cell_type": "code",
   "execution_count": 78,
   "id": "e92862eb-711b-4223-aaed-6043a2154a39",
   "metadata": {},
   "outputs": [],
   "source": [
    "numerical_list, numerical_disc_list = list_features_att(X)"
   ]
  },
  {
   "cell_type": "markdown",
   "id": "0505b299-cdf1-495a-b2f0-4b3d9efd59b3",
   "metadata": {},
   "source": [
    "Use of SimpleImputer to impute missing values:"
   ]
  },
  {
   "cell_type": "code",
   "execution_count": 79,
   "id": "4970fb16-7ac8-4a18-9f92-dce8ec8c06eb",
   "metadata": {},
   "outputs": [
    {
     "name": "stdout",
     "output_type": "stream",
     "text": [
      "time for imputation: 128.69\n"
     ]
    }
   ],
   "source": [
    "time_init = time.time()\n",
    "#imputation on numeric continue columns with 'mean' strategy\n",
    "X[numerical_list] = SimpleImputer(strategy='mean').fit_transform(X[numerical_list])\n",
    "#imputation on  discrete numeric columns with 'most_frequent' strategy\n",
    "X[numerical_disc_list] = SimpleImputer(strategy='most_frequent').fit_transform(X[numerical_disc_list])\n",
    "print (f'time for imputation: {time.time() - time_init:.2f}')"
   ]
  },
  {
   "cell_type": "markdown",
   "id": "f4ffa0ea-e936-4e52-894d-4019c9c2b612",
   "metadata": {},
   "source": [
    "## Import / Export csv"
   ]
  },
  {
   "cell_type": "code",
   "execution_count": 99,
   "id": "64ba81ae-ba31-4176-8cd3-384a1ca337c1",
   "metadata": {},
   "outputs": [],
   "source": [
    "# Use the first time to export as csv\n",
    "X.to_csv('./X_train_data.csv')\n",
    "y.to_csv('./y_train_data.csv')\n",
    "\n",
    "# Import csv of sampled data before second split train/test and normalization\n",
    "#X = pd.read_csv('X_train_data.csv')\n",
    "#y = pd.read_csv('y_train_data.csv')"
   ]
  },
  {
   "cell_type": "code",
   "execution_count": 82,
   "id": "5c49cc2f-65ab-4d06-ba88-09b077fcbcd8",
   "metadata": {},
   "outputs": [],
   "source": [
    "# for a better efficiency, we only try our models on 10% of train data\n",
    "X1,_,y1,_ = train_test_split(X, y, train_size=0.10, stratify=y, random_state=42)"
   ]
  },
  {
   "cell_type": "code",
   "execution_count": 83,
   "id": "2f024cb2-0a08-4df5-baf5-3ddc2d1a8f04",
   "metadata": {},
   "outputs": [],
   "source": [
    "# data split\n",
    "X1_train, X1_test, y1_train, y1_test = train_test_split(X1,y1, train_size=0.8, shuffle= True, stratify= y1, random_state= 42)"
   ]
  },
  {
   "cell_type": "code",
   "execution_count": 86,
   "id": "e6792207-574e-42f1-90ba-6c8410902009",
   "metadata": {},
   "outputs": [],
   "source": [
    "# Normalization\n",
    "std_scaler = StandardScaler()\n",
    "\n",
    "std_scaler.fit(X1_train)\n",
    "X1_train = std_scaler.transform(X1_train)\n",
    "X1_test = std_scaler.transform(X1_test)"
   ]
  },
  {
   "cell_type": "markdown",
   "id": "c788cb8e-a0f0-4622-92df-6e302a714a8e",
   "metadata": {},
   "source": [
    "# MLFlow setup"
   ]
  },
  {
   "cell_type": "code",
   "execution_count": 40,
   "id": "b44bc614-98eb-443e-bcc9-1a3426f417ad",
   "metadata": {},
   "outputs": [],
   "source": [
    "import mlflow\n",
    "# Set the MLFlow tracking URI (local file storage)\n",
    "mlflow.set_tracking_uri(\"./mlruns\")"
   ]
  },
  {
   "cell_type": "markdown",
   "id": "08940ff7-f60d-42da-9f89-87c5064f2e5e",
   "metadata": {},
   "source": [
    "# Modelisation"
   ]
  },
  {
   "cell_type": "code",
   "execution_count": null,
   "id": "255f0479-8603-4f01-9306-56139bab38b4",
   "metadata": {},
   "outputs": [],
   "source": []
  },
  {
   "cell_type": "code",
   "execution_count": null,
   "id": "274c651e-041b-47c7-948b-e491a7f54d12",
   "metadata": {},
   "outputs": [],
   "source": []
  }
 ],
 "metadata": {
  "kernelspec": {
   "display_name": "Python 3 (ipykernel)",
   "language": "python",
   "name": "python3"
  },
  "language_info": {
   "codemirror_mode": {
    "name": "ipython",
    "version": 3
   },
   "file_extension": ".py",
   "mimetype": "text/x-python",
   "name": "python",
   "nbconvert_exporter": "python",
   "pygments_lexer": "ipython3",
   "version": "3.9.16"
  }
 },
 "nbformat": 4,
 "nbformat_minor": 5
}
